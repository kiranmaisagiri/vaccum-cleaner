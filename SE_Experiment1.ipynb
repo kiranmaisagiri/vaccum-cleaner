{
  "nbformat": 4,
  "nbformat_minor": 0,
  "metadata": {
    "colab": {
      "provenance": [],
      "authorship_tag": "ABX9TyMZ2wsvnwXaAGovLZ3W9xsF",
      "include_colab_link": true
    },
    "kernelspec": {
      "name": "python3",
      "display_name": "Python 3"
    },
    "language_info": {
      "name": "python"
    }
  },
  "cells": [
    {
      "cell_type": "markdown",
      "metadata": {
        "id": "view-in-github",
        "colab_type": "text"
      },
      "source": [
        "<a href=\"https://colab.research.google.com/github/kiranmaisagiri/vaccum-cleaner/blob/main/SE_Experiment1.ipynb\" target=\"_parent\"><img src=\"https://colab.research.google.com/assets/colab-badge.svg\" alt=\"Open In Colab\"/></a>"
      ]
    },
    {
      "cell_type": "code",
      "execution_count": 1,
      "metadata": {
        "colab": {
          "base_uri": "https://localhost:8080/"
        },
        "id": "2Rg5fxeiaXUp",
        "outputId": "7b60f603-f672-410e-e6f7-2b95a6f5875d"
      },
      "outputs": [
        {
          "output_type": "stream",
          "name": "stdout",
          "text": [
            "Stage 1: Hard-coding variables\n",
            "For temperature 25°C, humidity 60%, and wind speed 10 km/h, the weather variable is: 286.50\n",
            "\n"
          ]
        }
      ],
      "source": [
        "def calculate_weather(temperature, humidity, wind):\n",
        "    weather = 0.5 * temperature**2 - 0.2 * humidity + 0.1 * wind - 15\n",
        "    return weather\n",
        "def stage_1_hard_coding():\n",
        "    print(\"Stage 1: Hard-coding variables\")\n",
        "    temperature = 25\n",
        "    humidity = 60\n",
        "    wind = 10\n",
        "    weather = calculate_weather(temperature, humidity, wind)\n",
        "    print(f\"For temperature {temperature}°C, humidity {humidity}%, and wind speed {wind} km/h, the weather variable is: {weather:.2f}\")\n",
        "    print()\n",
        "stage_1_hard_coding()\n"
      ]
    },
    {
      "cell_type": "code",
      "source": [
        "def stage_2_keyboard_input():\n",
        "    print(\"Stage 2: Keyboard input\")\n",
        "    temperature = float(input(\"Enter temperature (°C): \"))\n",
        "    humidity = float(input(\"Enter humidity (%): \"))\n",
        "    wind = float(input(\"Enter wind speed (km/h): \"))\n",
        "    weather = calculate_weather(temperature, humidity, wind)\n",
        "    print(f\"The calculated weather variable is: {weather:.2f}\")\n",
        "    print()\n",
        "\n",
        "stage_2_keyboard_input()\n"
      ],
      "metadata": {
        "colab": {
          "base_uri": "https://localhost:8080/"
        },
        "id": "NxlIpsJVdfFX",
        "outputId": "020af7be-43f9-49c5-bc86-3125b1446896"
      },
      "execution_count": 2,
      "outputs": [
        {
          "output_type": "stream",
          "name": "stdout",
          "text": [
            "Stage 2: Keyboard input\n",
            "Enter temperature (°C): 40\n",
            "Enter humidity (%): 85\n",
            "Enter wind speed (km/h): 20\n",
            "The calculated weather variable is: 770.00\n",
            "\n"
          ]
        }
      ]
    },
    {
      "cell_type": "code",
      "source": [
        "def process_file(input_file, output_file):\n",
        "    try:\n",
        "        with open(input_file, 'r') as infile, open(output_file, 'w') as outfile:\n",
        "            for line in infile:\n",
        "                try:\n",
        "                    if line.strip():\n",
        "                        temperature, humidity, wind = map(float, line.split())\n",
        "                        weather = calculate_weather(temperature, humidity, wind)\n",
        "                        outfile.write(f\"Temperature: {temperature}, Humidity: {humidity}, Wind: {wind}, Weather: {weather:.2f}\\n\")\n",
        "                except ValueError:\n",
        "                    print(f\"Skipping invalid line: {line.strip()}\")\n",
        "        print(f\"Results saved to {output_file}.\")\n",
        "    except FileNotFoundError:\n",
        "        print(f\"Error: The file '{input_file}' was not found.\")\n",
        "\n",
        "def stage_3_read_from_file():\n",
        "    print(\"Stage 3: Reading from file\")\n",
        "    input_file = \"input_data.txt\"\n",
        "    output_file = \"output_data.txt\"\n",
        "    process_file(input_file, output_file)\n",
        "    print()\n",
        "\n",
        "stage_3_read_from_file()\n"
      ],
      "metadata": {
        "colab": {
          "base_uri": "https://localhost:8080/"
        },
        "id": "LnYWYMdwdoxa",
        "outputId": "43ff82ac-1f4d-4f64-f0a4-df278dc28c25"
      },
      "execution_count": 3,
      "outputs": [
        {
          "output_type": "stream",
          "name": "stdout",
          "text": [
            "Stage 3: Reading from file\n",
            "Results saved to output_data.txt.\n",
            "\n"
          ]
        }
      ]
    },
    {
      "cell_type": "code",
      "source": [
        "def stage_4_single_input():\n",
        "    \"\"\"Stage 4: Single set of input\"\"\"\n",
        "    print(\"Stage 4: Single set of input\")\n",
        "    temperature = float(input(\"Enter temperature (°C): \"))\n",
        "    humidity = float(input(\"Enter humidity (%): \"))\n",
        "    wind = float(input(\"Enter wind speed (km/h): \"))\n",
        "    weather = calculate_weather(temperature, humidity, wind)\n",
        "    print(f\"The calculated weather variable for the single input is: {weather:.2f}\")\n",
        "    print()\n",
        "\n",
        "stage_4_single_input()\n"
      ],
      "metadata": {
        "colab": {
          "base_uri": "https://localhost:8080/"
        },
        "id": "bPXYIlm6d9Na",
        "outputId": "95e94ed8-5d31-4899-c644-0a734c9cc3af"
      },
      "execution_count": 8,
      "outputs": [
        {
          "output_type": "stream",
          "name": "stdout",
          "text": [
            "Stage 4: Single set of input\n",
            "Enter temperature (°C): 12\n",
            "Enter humidity (%): 34\n",
            "Enter wind speed (km/h): 12\n",
            "The calculated weather variable for the single input is: 51.40\n",
            "\n"
          ]
        }
      ]
    },
    {
      "cell_type": "code",
      "source": [
        "def stage_5_multiple_inputs():\n",
        "    \"\"\"Stage 5: Multiple sets of inputs\"\"\"\n",
        "    print(\"Stage 5: Multiple sets of inputs\")\n",
        "    input_file = \"input_data.txt\"  # Input file with multiple sets of data\n",
        "    output_file = \"output_data.txt\"  # Output file to store results\n",
        "    process_file(input_file, output_file)\n",
        "    print()\n",
        "\n",
        "stage_5_multiple_inputs()\n"
      ],
      "metadata": {
        "colab": {
          "base_uri": "https://localhost:8080/"
        },
        "id": "UhbLNDBsfcDB",
        "outputId": "bfca3ff1-0fec-41e8-ea2d-a2b0b3e1535d"
      },
      "execution_count": 9,
      "outputs": [
        {
          "output_type": "stream",
          "name": "stdout",
          "text": [
            "Stage 5: Multiple sets of inputs\n",
            "Results saved to output_data.txt.\n",
            "\n"
          ]
        }
      ]
    },
    {
      "cell_type": "code",
      "source": [
        "def main():\n",
        "    \"\"\"Main function to run the different stages of weather modeling\"\"\"\n",
        "    # Stage 1: Hard-coding variables\n",
        "    stage_1_hard_coding()\n",
        "\n",
        "    # Stage 2: Keyboard input\n",
        "    stage_2_keyboard_input()\n",
        "\n",
        "    # Stage 3: Reading from a file\n",
        "    stage_3_read_from_file()\n",
        "\n",
        "    # Stage 4: Single set of input\n",
        "    stage_4_single_input()\n",
        "\n",
        "    # Stage 5: Multiple sets of input\n",
        "    stage_5_multiple_inputs()\n",
        "\n",
        "if __name__ == \"__main__\":\n",
        "    main()\n"
      ],
      "metadata": {
        "colab": {
          "base_uri": "https://localhost:8080/"
        },
        "id": "eKhtB-ugeLXS",
        "outputId": "28415d8e-ddcb-403a-c956-79d8aa27f5c5"
      },
      "execution_count": 10,
      "outputs": [
        {
          "output_type": "stream",
          "name": "stdout",
          "text": [
            "Stage 1: Hard-coding variables\n",
            "For temperature 25°C, humidity 60%, and wind speed 10 km/h, the weather variable is: 286.50\n",
            "\n",
            "Stage 2: Keyboard input\n",
            "Enter temperature (°C): 12\n",
            "Enter humidity (%): 53\n",
            "Enter wind speed (km/h): 32\n",
            "The calculated weather variable is: 49.60\n",
            "\n",
            "Stage 3: Reading from file\n",
            "Results saved to output_data.txt.\n",
            "\n",
            "Stage 4: Single set of input\n",
            "Enter temperature (°C): 40\n",
            "Enter humidity (%): 32\n",
            "Enter wind speed (km/h): 50\n",
            "The calculated weather variable for the single input is: 783.60\n",
            "\n",
            "Stage 5: Multiple sets of inputs\n",
            "Results saved to output_data.txt.\n",
            "\n"
          ]
        }
      ]
    }
  ]
}