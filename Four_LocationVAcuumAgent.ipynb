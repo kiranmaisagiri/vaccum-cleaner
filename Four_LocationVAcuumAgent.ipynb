{
  "nbformat": 4,
  "nbformat_minor": 0,
  "metadata": {
    "colab": {
      "provenance": [],
      "include_colab_link": true
    },
    "kernelspec": {
      "name": "python3",
      "display_name": "Python 3"
    },
    "language_info": {
      "name": "python"
    }
  },
  "cells": [
    {
      "cell_type": "markdown",
      "metadata": {
        "id": "view-in-github",
        "colab_type": "text"
      },
      "source": [
        "<a href=\"https://colab.research.google.com/github/kiranmaisagiri/vaccum-cleaner/blob/main/Four_LocationVAcuumAgent.ipynb\" target=\"_parent\"><img src=\"https://colab.research.google.com/assets/colab-badge.svg\" alt=\"Open In Colab\"/></a>"
      ]
    },
    {
      "cell_type": "code",
      "source": [
        "class agent:\n",
        "\n",
        "  def __init__(self, environment):\n",
        "    batteryLife = 15\n",
        "    self.cost = 0\n",
        "    print(environment.locationcondtion)\n",
        "    vacuumlocation = random.choice(['A','B','C','D'])\n",
        "    print(\"vacuum cleaner is randomply place at \", vacuumlocation)\n",
        "    if batteryLife < 10:\n",
        "      print(\"put vacuum in Charging\")\n",
        "      return\n",
        "    if environment.locationcondtion[vacuumlocation] == 1:\n",
        "      print(f\"Location {vacuumlocation} is dirty\")\n",
        "      environment.locationcondtion[vacuumlocation] =  0\n",
        "      print(f\"Location {vacuumlocation} has been cleaned\")\n",
        "\n",
        "    if all(value == 0 for value in environment.locationcondtion.values()):\n",
        "    # if (environment.locationcondtion['A']==0 and environment.locationcondtion['B']==0 and environment.locationcondtion['C']==0 and environment.locationcondtion['D']==0 ):\n",
        "      print(environment.locationcondtion)\n",
        "      print(\"All location are clean\")\n",
        "    else:\n",
        "      self.__init__(environment)\n",
        "      self.cost = self.cost + 1\n",
        "\n"
      ],
      "metadata": {
        "id": "oZwAiPepgmwq"
      },
      "execution_count": null,
      "outputs": []
    },
    {
      "cell_type": "code",
      "source": [
        "theenvironment =  Environment()\n",
        "theVacuum = agent(theenvironment)\n",
        "print(\"The cost of cleaness is  :\", theVacuum.cost)"
      ],
      "metadata": {
        "colab": {
          "base_uri": "https://localhost:8080/"
        },
        "id": "6tIRFxHyiYAf",
        "outputId": "8af10261-df64-40bf-cb58-cb976969879a"
      },
      "execution_count": null,
      "outputs": [
        {
          "output_type": "stream",
          "name": "stdout",
          "text": [
            "{'A': 1, 'B': 1, 'C': 0, 'D': 0}\n",
            "vacuum cleaner is randomply place at  B\n",
            "Location B is dirty\n",
            "Location B has been cleaned\n",
            "{'A': 1, 'B': 0, 'C': 0, 'D': 0}\n",
            "vacuum cleaner is randomply place at  B\n",
            "{'A': 1, 'B': 0, 'C': 0, 'D': 0}\n",
            "vacuum cleaner is randomply place at  C\n",
            "{'A': 1, 'B': 0, 'C': 0, 'D': 0}\n",
            "vacuum cleaner is randomply place at  D\n",
            "{'A': 1, 'B': 0, 'C': 0, 'D': 0}\n",
            "vacuum cleaner is randomply place at  A\n",
            "Location A is dirty\n",
            "Location A has been cleaned\n",
            "{'A': 0, 'B': 0, 'C': 0, 'D': 0}\n",
            "All location are clean\n",
            "The cost of cleaness is  : 4\n"
          ]
        }
      ]
    },
    {
      "cell_type": "markdown",
      "source": [],
      "metadata": {
        "id": "pd8BdbT0OZTz"
      }
    }
  ]
}